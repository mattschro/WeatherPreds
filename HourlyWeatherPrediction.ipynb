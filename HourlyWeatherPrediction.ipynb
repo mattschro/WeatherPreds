{
 "cells": [
  {
   "attachments": {},
   "cell_type": "markdown",
   "metadata": {},
   "source": [
    "## Importing Libraries"
   ]
  },
  {
   "cell_type": "code",
   "execution_count": 51,
   "metadata": {},
   "outputs": [],
   "source": [
    "# importing libraries\n",
    "import pandas as pd\n",
    "import numpy as np\n",
    "import matplotlib.pyplot as plt\n",
    "import warnings\n",
    "warnings.filterwarnings('ignore')"
   ]
  },
  {
   "attachments": {},
   "cell_type": "markdown",
   "metadata": {},
   "source": [
    "## Reading in Data \n",
    "(One .CSV per Year, Approximately Hourly Update)"
   ]
  },
  {
   "cell_type": "code",
   "execution_count": 52,
   "metadata": {},
   "outputs": [],
   "source": [
    "# data is from 2000 to 2022\n",
    "# reading files from 'hourly_historical_chi_weather' folder\n",
    "chi_hrly = []\n",
    "chi_hrly = pd.DataFrame()\n",
    "for i in range(1,24):\n",
    "    temp_df = pd.read_csv('hourly_historical_chi_weather/72534014819 ({}).csv'.format(i))\n",
    "    chi_hrly = chi_hrly.append(temp_df, ignore_index=True)"
   ]
  },
  {
   "attachments": {},
   "cell_type": "markdown",
   "metadata": {},
   "source": [
    "## Data Exploration"
   ]
  },
  {
   "cell_type": "code",
   "execution_count": 53,
   "metadata": {},
   "outputs": [
    {
     "data": {
      "text/plain": [
       "(317020, 116)"
      ]
     },
     "execution_count": 53,
     "metadata": {},
     "output_type": "execute_result"
    }
   ],
   "source": [
    "# rows and columns of the dataframe\n",
    "chi_hrly.shape"
   ]
  },
  {
   "cell_type": "code",
   "execution_count": 54,
   "metadata": {},
   "outputs": [
    {
     "data": {
      "text/html": [
       "<div>\n",
       "<style scoped>\n",
       "    .dataframe tbody tr th:only-of-type {\n",
       "        vertical-align: middle;\n",
       "    }\n",
       "\n",
       "    .dataframe tbody tr th {\n",
       "        vertical-align: top;\n",
       "    }\n",
       "\n",
       "    .dataframe thead th {\n",
       "        text-align: right;\n",
       "    }\n",
       "</style>\n",
       "<table border=\"1\" class=\"dataframe\">\n",
       "  <thead>\n",
       "    <tr style=\"text-align: right;\">\n",
       "      <th></th>\n",
       "      <th>STATION</th>\n",
       "      <th>DATE</th>\n",
       "      <th>SOURCE</th>\n",
       "      <th>LATITUDE</th>\n",
       "      <th>LONGITUDE</th>\n",
       "      <th>ELEVATION</th>\n",
       "      <th>NAME</th>\n",
       "      <th>REPORT_TYPE</th>\n",
       "      <th>CALL_SIGN</th>\n",
       "      <th>QUALITY_CONTROL</th>\n",
       "      <th>...</th>\n",
       "      <th>GK1</th>\n",
       "      <th>GP1</th>\n",
       "      <th>GQ1</th>\n",
       "      <th>GR1</th>\n",
       "      <th>IA1</th>\n",
       "      <th>SA1</th>\n",
       "      <th>UA1</th>\n",
       "      <th>UG1</th>\n",
       "      <th>AA4</th>\n",
       "      <th>ME1</th>\n",
       "    </tr>\n",
       "  </thead>\n",
       "  <tbody>\n",
       "    <tr>\n",
       "      <th>0</th>\n",
       "      <td>72534014819</td>\n",
       "      <td>2013-01-01T00:49:00</td>\n",
       "      <td>6</td>\n",
       "      <td>41.78611</td>\n",
       "      <td>-87.75222</td>\n",
       "      <td>186.5</td>\n",
       "      <td>CHICAGO MIDWAY AIRPORT, IL US</td>\n",
       "      <td>FM-16</td>\n",
       "      <td>KMDW</td>\n",
       "      <td>V020</td>\n",
       "      <td>...</td>\n",
       "      <td>NaN</td>\n",
       "      <td>NaN</td>\n",
       "      <td>NaN</td>\n",
       "      <td>NaN</td>\n",
       "      <td>NaN</td>\n",
       "      <td>NaN</td>\n",
       "      <td>NaN</td>\n",
       "      <td>NaN</td>\n",
       "      <td>NaN</td>\n",
       "      <td>NaN</td>\n",
       "    </tr>\n",
       "    <tr>\n",
       "      <th>1</th>\n",
       "      <td>72534014819</td>\n",
       "      <td>2013-01-01T00:51:00</td>\n",
       "      <td>7</td>\n",
       "      <td>41.78611</td>\n",
       "      <td>-87.75222</td>\n",
       "      <td>186.5</td>\n",
       "      <td>CHICAGO MIDWAY AIRPORT, IL US</td>\n",
       "      <td>FM-15</td>\n",
       "      <td>KMDW</td>\n",
       "      <td>V020</td>\n",
       "      <td>...</td>\n",
       "      <td>NaN</td>\n",
       "      <td>NaN</td>\n",
       "      <td>NaN</td>\n",
       "      <td>NaN</td>\n",
       "      <td>NaN</td>\n",
       "      <td>NaN</td>\n",
       "      <td>NaN</td>\n",
       "      <td>NaN</td>\n",
       "      <td>NaN</td>\n",
       "      <td>NaN</td>\n",
       "    </tr>\n",
       "    <tr>\n",
       "      <th>2</th>\n",
       "      <td>72534014819</td>\n",
       "      <td>2013-01-01T01:51:00</td>\n",
       "      <td>7</td>\n",
       "      <td>41.78611</td>\n",
       "      <td>-87.75222</td>\n",
       "      <td>186.5</td>\n",
       "      <td>CHICAGO MIDWAY AIRPORT, IL US</td>\n",
       "      <td>FM-15</td>\n",
       "      <td>KMDW</td>\n",
       "      <td>V020</td>\n",
       "      <td>...</td>\n",
       "      <td>NaN</td>\n",
       "      <td>NaN</td>\n",
       "      <td>NaN</td>\n",
       "      <td>NaN</td>\n",
       "      <td>NaN</td>\n",
       "      <td>NaN</td>\n",
       "      <td>NaN</td>\n",
       "      <td>NaN</td>\n",
       "      <td>NaN</td>\n",
       "      <td>NaN</td>\n",
       "    </tr>\n",
       "    <tr>\n",
       "      <th>3</th>\n",
       "      <td>72534014819</td>\n",
       "      <td>2013-01-01T02:51:00</td>\n",
       "      <td>7</td>\n",
       "      <td>41.78611</td>\n",
       "      <td>-87.75222</td>\n",
       "      <td>186.5</td>\n",
       "      <td>CHICAGO MIDWAY AIRPORT, IL US</td>\n",
       "      <td>FM-15</td>\n",
       "      <td>KMDW</td>\n",
       "      <td>V020</td>\n",
       "      <td>...</td>\n",
       "      <td>NaN</td>\n",
       "      <td>NaN</td>\n",
       "      <td>NaN</td>\n",
       "      <td>NaN</td>\n",
       "      <td>NaN</td>\n",
       "      <td>NaN</td>\n",
       "      <td>NaN</td>\n",
       "      <td>NaN</td>\n",
       "      <td>NaN</td>\n",
       "      <td>NaN</td>\n",
       "    </tr>\n",
       "    <tr>\n",
       "      <th>4</th>\n",
       "      <td>72534014819</td>\n",
       "      <td>2013-01-01T03:00:00</td>\n",
       "      <td>4</td>\n",
       "      <td>41.78611</td>\n",
       "      <td>-87.75222</td>\n",
       "      <td>186.5</td>\n",
       "      <td>CHICAGO MIDWAY AIRPORT, IL US</td>\n",
       "      <td>FM-12</td>\n",
       "      <td>KMDW</td>\n",
       "      <td>V020</td>\n",
       "      <td>...</td>\n",
       "      <td>NaN</td>\n",
       "      <td>NaN</td>\n",
       "      <td>NaN</td>\n",
       "      <td>NaN</td>\n",
       "      <td>NaN</td>\n",
       "      <td>NaN</td>\n",
       "      <td>NaN</td>\n",
       "      <td>NaN</td>\n",
       "      <td>NaN</td>\n",
       "      <td>NaN</td>\n",
       "    </tr>\n",
       "  </tbody>\n",
       "</table>\n",
       "<p>5 rows × 116 columns</p>\n",
       "</div>"
      ],
      "text/plain": [
       "       STATION                 DATE SOURCE  LATITUDE  LONGITUDE  ELEVATION  \\\n",
       "0  72534014819  2013-01-01T00:49:00      6  41.78611  -87.75222      186.5   \n",
       "1  72534014819  2013-01-01T00:51:00      7  41.78611  -87.75222      186.5   \n",
       "2  72534014819  2013-01-01T01:51:00      7  41.78611  -87.75222      186.5   \n",
       "3  72534014819  2013-01-01T02:51:00      7  41.78611  -87.75222      186.5   \n",
       "4  72534014819  2013-01-01T03:00:00      4  41.78611  -87.75222      186.5   \n",
       "\n",
       "                            NAME REPORT_TYPE CALL_SIGN QUALITY_CONTROL  ...  \\\n",
       "0  CHICAGO MIDWAY AIRPORT, IL US       FM-16     KMDW             V020  ...   \n",
       "1  CHICAGO MIDWAY AIRPORT, IL US       FM-15     KMDW             V020  ...   \n",
       "2  CHICAGO MIDWAY AIRPORT, IL US       FM-15     KMDW             V020  ...   \n",
       "3  CHICAGO MIDWAY AIRPORT, IL US       FM-15     KMDW             V020  ...   \n",
       "4  CHICAGO MIDWAY AIRPORT, IL US       FM-12     KMDW             V020  ...   \n",
       "\n",
       "   GK1  GP1  GQ1  GR1  IA1  SA1  UA1  UG1  AA4  ME1  \n",
       "0  NaN  NaN  NaN  NaN  NaN  NaN  NaN  NaN  NaN  NaN  \n",
       "1  NaN  NaN  NaN  NaN  NaN  NaN  NaN  NaN  NaN  NaN  \n",
       "2  NaN  NaN  NaN  NaN  NaN  NaN  NaN  NaN  NaN  NaN  \n",
       "3  NaN  NaN  NaN  NaN  NaN  NaN  NaN  NaN  NaN  NaN  \n",
       "4  NaN  NaN  NaN  NaN  NaN  NaN  NaN  NaN  NaN  NaN  \n",
       "\n",
       "[5 rows x 116 columns]"
      ]
     },
     "execution_count": 54,
     "metadata": {},
     "output_type": "execute_result"
    }
   ],
   "source": [
    "# head of the dataframe\n",
    "chi_hrly.head()"
   ]
  },
  {
   "attachments": {},
   "cell_type": "markdown",
   "metadata": {},
   "source": [
    "## Data Cleaning"
   ]
  },
  {
   "attachments": {},
   "cell_type": "markdown",
   "metadata": {},
   "source": [
    "Converting the dataframe 'chi_hrly' 'DATE' column to a pd.datetime format and sorting by date. "
   ]
  },
  {
   "cell_type": "code",
   "execution_count": 55,
   "metadata": {},
   "outputs": [],
   "source": [
    "chi_hrly['DATE'] = pd.to_datetime(chi_hrly['DATE'], yearfirst=True).sort_values().reset_index(drop=True)"
   ]
  },
  {
   "attachments": {},
   "cell_type": "markdown",
   "metadata": {},
   "source": [
    "Ensuring that the sorting actually worked."
   ]
  },
  {
   "cell_type": "code",
   "execution_count": 56,
   "metadata": {},
   "outputs": [
    {
     "data": {
      "text/plain": [
       "0   2000-01-01 00:00:00\n",
       "1   2000-01-01 00:53:00\n",
       "2   2000-01-01 01:00:00\n",
       "3   2000-01-01 01:53:00\n",
       "4   2000-01-01 02:00:00\n",
       "Name: DATE, dtype: datetime64[ns]"
      ]
     },
     "execution_count": 56,
     "metadata": {},
     "output_type": "execute_result"
    }
   ],
   "source": [
    "chi_hrly['DATE'].head()"
   ]
  },
  {
   "cell_type": "code",
   "execution_count": 57,
   "metadata": {},
   "outputs": [
    {
     "data": {
      "text/plain": [
       "0         -0030,5\n",
       "1         -0033,5\n",
       "2         -0033,5\n",
       "3         -0028,5\n",
       "4         -0028,1\n",
       "           ...   \n",
       "317015    -0040,1\n",
       "317016    +9999,9\n",
       "317017    -0040,1\n",
       "317018    +9999,9\n",
       "317019    -0040,1\n",
       "Name: TMP, Length: 317020, dtype: object"
      ]
     },
     "execution_count": 57,
     "metadata": {},
     "output_type": "execute_result"
    }
   ],
   "source": [
    "chi_hrly['TMP']"
   ]
  },
  {
   "cell_type": "code",
   "execution_count": 58,
   "metadata": {},
   "outputs": [],
   "source": [
    "# splitting 'TMP' by the comma into two columns: TMP_F and TMP_Confidence\n",
    "chi_hrly['TMP_F'],chi_hrly['TMP_Confidence'] = chi_hrly['TMP'].str.split(',',1).str"
   ]
  },
  {
   "cell_type": "code",
   "execution_count": 59,
   "metadata": {},
   "outputs": [],
   "source": [
    "# number of rows with TMP_F = '+9999' which indicates missing data\n",
    "chi_hrly[chi_hrly['TMP_F'] == '+9999'].shape[0] / chi_hrly.shape[0]\n",
    "\n",
    "# converting rows where TMP_F = '+9999' to NaN\n",
    "chi_hrly['TMP_F'] = chi_hrly['TMP_F'].replace('+9999', np.nan)\n",
    "\n",
    "# converting 'TMP_F' to float (and from celsius to fahrenheit) if not NaN\n",
    "# this is factoring in for the scaling factor of 10, thus the division by 10\n",
    "chi_hrly['TMP_F'] = (chi_hrly['TMP_F'].astype(float)/10 * 9/5) + 32\n",
    "\n",
    "# converting 'TMP_Confidence' to int\n",
    "chi_hrly['TMP_Confidence'] = chi_hrly['TMP_Confidence'].astype(int)"
   ]
  },
  {
   "cell_type": "code",
   "execution_count": 60,
   "metadata": {},
   "outputs": [
    {
     "name": "stdout",
     "output_type": "stream",
     "text": [
      "total number of missing weather observations: 50256\n",
      "percentage of missing weather observations: 15.85 %\n"
     ]
    }
   ],
   "source": [
    "# total number of days with missing data\n",
    "print('total number of missing weather observations:',chi_hrly['TMP_F'].isna().sum())\n",
    "\n",
    "# total number of days with missing data\n",
    "print('percentage of missing weather observations:',round(chi_hrly['TMP_F'].isna().sum()/ chi_hrly.shape[0],4)*100,'%')"
   ]
  },
  {
   "cell_type": "code",
   "execution_count": 61,
   "metadata": {},
   "outputs": [
    {
     "data": {
      "text/plain": [
       "5    188523\n",
       "1     77333\n",
       "9     50256\n",
       "7       860\n",
       "6        45\n",
       "2         3\n",
       "Name: TMP_Confidence, dtype: int64"
      ]
     },
     "execution_count": 61,
     "metadata": {},
     "output_type": "execute_result"
    }
   ],
   "source": [
    "chi_hrly['TMP_Confidence'].value_counts()"
   ]
  },
  {
   "attachments": {},
   "cell_type": "markdown",
   "metadata": {},
   "source": [
    "- Should probably make TMP_F be NA for all 9's in TMP_Confidence (which is likely already the case.)\n",
    "- 7, 6, 3 & 2 should be NaNs\n",
    "- 5 and 1 are OK"
   ]
  },
  {
   "cell_type": "code",
   "execution_count": 33,
   "metadata": {},
   "outputs": [
    {
     "name": "stdout",
     "output_type": "stream",
     "text": [
      "<class 'pandas.core.frame.DataFrame'>\n",
      "RangeIndex: 317020 entries, 0 to 317019\n",
      "Columns: 118 entries, STATION to TMP_Confidence\n",
      "dtypes: datetime64[ns](1), float64(4), int64(2), object(111)\n",
      "memory usage: 285.4+ MB\n"
     ]
    }
   ],
   "source": [
    "chi_hrly.info()"
   ]
  },
  {
   "attachments": {},
   "cell_type": "markdown",
   "metadata": {},
   "source": [
    "There are 118 columns in this dataset, which is too many for the .info() function to be useful."
   ]
  },
  {
   "cell_type": "code",
   "execution_count": 62,
   "metadata": {},
   "outputs": [
    {
     "data": {
      "text/plain": [
       "72534014819    317020\n",
       "Name: STATION, dtype: int64"
      ]
     },
     "execution_count": 62,
     "metadata": {},
     "output_type": "execute_result"
    }
   ],
   "source": [
    "chi_hrly['STATION'].value_counts() # SAME FOR ALL"
   ]
  },
  {
   "cell_type": "code",
   "execution_count": 63,
   "metadata": {},
   "outputs": [
    {
     "data": {
      "text/plain": [
       "44"
      ]
     },
     "execution_count": 63,
     "metadata": {},
     "output_type": "execute_result"
    }
   ],
   "source": [
    "#chi_hrly['STATION'].value_counts() # SAME FOR ALL\n",
    "#chi_hrly['LATITUDE'].value_counts() # SIMILAR/SAME FOR ALL\n",
    "#chi_hrly['REPORT_TYPE'].value_counts() # NOT SAME FOR ALL\n",
    "chi_hrly['MW2'].nunique()\n"
   ]
  },
  {
   "attachments": {},
   "cell_type": "markdown",
   "metadata": {},
   "source": [
    "If there is no response variable value (TMP_F or temperature in Fahrenheit) the observation doesn't have much value, so it is removed below."
   ]
  },
  {
   "cell_type": "code",
   "execution_count": 64,
   "metadata": {},
   "outputs": [],
   "source": [
    "# dropping TMP_F where NA\n",
    "chi_hrly = chi_hrly.dropna(subset=['TMP_F'])"
   ]
  },
  {
   "attachments": {},
   "cell_type": "markdown",
   "metadata": {},
   "source": [
    "#### Data Cleaning For Loop Function"
   ]
  },
  {
   "attachments": {},
   "cell_type": "markdown",
   "metadata": {},
   "source": [
    "- Input\n",
    "    - Dataframe\n",
    "    - Missing value threshold for column removal\n",
    "    - number of unique values threshold\n",
    "- Output\n",
    "    - Columns that have only one value removed\n",
    "    - Columns that have"
   ]
  },
  {
   "cell_type": "code",
   "execution_count": 67,
   "metadata": {},
   "outputs": [],
   "source": [
    "def removing_useless_columns(df, na_theshold=0.99, unique_threshold=1):\n",
    "    df = df.copy()\n",
    "    unique_violations = 0\n",
    "    na_violations = 0\n",
    "    for col in df.columns:\n",
    "        if df[col].isna().sum()/df.shape[0] >= na_theshold:\n",
    "            na_violations += 1\n",
    "            df.drop(col, axis=1, inplace=True)\n",
    "        elif df[col].nunique() <= unique_threshold:\n",
    "            unique_violations += 1\n",
    "            df.drop(col, axis=1, inplace=True)\n",
    "    print('Unique Violations:',unique_violations)\n",
    "    print('NA Violations:',na_violations)\n",
    "    return df \n"
   ]
  },
  {
   "cell_type": "code",
   "execution_count": 68,
   "metadata": {},
   "outputs": [
    {
     "name": "stdout",
     "output_type": "stream",
     "text": [
      "(266764, 118)\n",
      "Unique Violations: 3\n",
      "NA Violations: 70\n",
      "(266764, 45)\n"
     ]
    }
   ],
   "source": [
    "print(chi_hrly.shape)\n",
    "chi_hrly_cleaned = removing_useless_columns(chi_hrly)\n",
    "print(chi_hrly_cleaned.shape)"
   ]
  },
  {
   "cell_type": "code",
   "execution_count": 69,
   "metadata": {},
   "outputs": [
    {
     "data": {
      "text/html": [
       "<div>\n",
       "<style scoped>\n",
       "    .dataframe tbody tr th:only-of-type {\n",
       "        vertical-align: middle;\n",
       "    }\n",
       "\n",
       "    .dataframe tbody tr th {\n",
       "        vertical-align: top;\n",
       "    }\n",
       "\n",
       "    .dataframe thead th {\n",
       "        text-align: right;\n",
       "    }\n",
       "</style>\n",
       "<table border=\"1\" class=\"dataframe\">\n",
       "  <thead>\n",
       "    <tr style=\"text-align: right;\">\n",
       "      <th></th>\n",
       "      <th>prct_missing</th>\n",
       "    </tr>\n",
       "  </thead>\n",
       "  <tbody>\n",
       "    <tr>\n",
       "      <th>AW3</th>\n",
       "      <td>0.989035</td>\n",
       "    </tr>\n",
       "    <tr>\n",
       "      <th>AJ1</th>\n",
       "      <td>0.987892</td>\n",
       "    </tr>\n",
       "    <tr>\n",
       "      <th>ED1</th>\n",
       "      <td>0.987637</td>\n",
       "    </tr>\n",
       "    <tr>\n",
       "      <th>KA4</th>\n",
       "      <td>0.987120</td>\n",
       "    </tr>\n",
       "    <tr>\n",
       "      <th>KA3</th>\n",
       "      <td>0.986932</td>\n",
       "    </tr>\n",
       "    <tr>\n",
       "      <th>GD4</th>\n",
       "      <td>0.970345</td>\n",
       "    </tr>\n",
       "    <tr>\n",
       "      <th>MW2</th>\n",
       "      <td>0.949176</td>\n",
       "    </tr>\n",
       "    <tr>\n",
       "      <th>OD1</th>\n",
       "      <td>0.937102</td>\n",
       "    </tr>\n",
       "    <tr>\n",
       "      <th>AA2</th>\n",
       "      <td>0.934493</td>\n",
       "    </tr>\n",
       "    <tr>\n",
       "      <th>AU2</th>\n",
       "      <td>0.917931</td>\n",
       "    </tr>\n",
       "    <tr>\n",
       "      <th>AW2</th>\n",
       "      <td>0.916645</td>\n",
       "    </tr>\n",
       "    <tr>\n",
       "      <th>KA2</th>\n",
       "      <td>0.876865</td>\n",
       "    </tr>\n",
       "    <tr>\n",
       "      <th>KA1</th>\n",
       "      <td>0.876059</td>\n",
       "    </tr>\n",
       "    <tr>\n",
       "      <th>GA3</th>\n",
       "      <td>0.829737</td>\n",
       "    </tr>\n",
       "    <tr>\n",
       "      <th>AW1</th>\n",
       "      <td>0.825501</td>\n",
       "    </tr>\n",
       "    <tr>\n",
       "      <th>AU1</th>\n",
       "      <td>0.823237</td>\n",
       "    </tr>\n",
       "    <tr>\n",
       "      <th>OC1</th>\n",
       "      <td>0.821378</td>\n",
       "    </tr>\n",
       "    <tr>\n",
       "      <th>GD3</th>\n",
       "      <td>0.798305</td>\n",
       "    </tr>\n",
       "    <tr>\n",
       "      <th>MW1</th>\n",
       "      <td>0.669517</td>\n",
       "    </tr>\n",
       "    <tr>\n",
       "      <th>GE1</th>\n",
       "      <td>0.653608</td>\n",
       "    </tr>\n",
       "    <tr>\n",
       "      <th>MD1</th>\n",
       "      <td>0.647520</td>\n",
       "    </tr>\n",
       "    <tr>\n",
       "      <th>EQD</th>\n",
       "      <td>0.643693</td>\n",
       "    </tr>\n",
       "    <tr>\n",
       "      <th>GA2</th>\n",
       "      <td>0.615878</td>\n",
       "    </tr>\n",
       "    <tr>\n",
       "      <th>GD2</th>\n",
       "      <td>0.534233</td>\n",
       "    </tr>\n",
       "    <tr>\n",
       "      <th>GA1</th>\n",
       "      <td>0.283277</td>\n",
       "    </tr>\n",
       "    <tr>\n",
       "      <th>AA1</th>\n",
       "      <td>0.187911</td>\n",
       "    </tr>\n",
       "    <tr>\n",
       "      <th>GD1</th>\n",
       "      <td>0.167069</td>\n",
       "    </tr>\n",
       "    <tr>\n",
       "      <th>GF1</th>\n",
       "      <td>0.034671</td>\n",
       "    </tr>\n",
       "    <tr>\n",
       "      <th>MA1</th>\n",
       "      <td>0.000292</td>\n",
       "    </tr>\n",
       "    <tr>\n",
       "      <th>REM</th>\n",
       "      <td>0.000000</td>\n",
       "    </tr>\n",
       "    <tr>\n",
       "      <th>TMP_F</th>\n",
       "      <td>0.000000</td>\n",
       "    </tr>\n",
       "    <tr>\n",
       "      <th>DATE</th>\n",
       "      <td>0.000000</td>\n",
       "    </tr>\n",
       "    <tr>\n",
       "      <th>SOURCE</th>\n",
       "      <td>0.000000</td>\n",
       "    </tr>\n",
       "    <tr>\n",
       "      <th>SLP</th>\n",
       "      <td>0.000000</td>\n",
       "    </tr>\n",
       "    <tr>\n",
       "      <th>DEW</th>\n",
       "      <td>0.000000</td>\n",
       "    </tr>\n",
       "    <tr>\n",
       "      <th>TMP</th>\n",
       "      <td>0.000000</td>\n",
       "    </tr>\n",
       "    <tr>\n",
       "      <th>VIS</th>\n",
       "      <td>0.000000</td>\n",
       "    </tr>\n",
       "    <tr>\n",
       "      <th>CIG</th>\n",
       "      <td>0.000000</td>\n",
       "    </tr>\n",
       "    <tr>\n",
       "      <th>WND</th>\n",
       "      <td>0.000000</td>\n",
       "    </tr>\n",
       "    <tr>\n",
       "      <th>CALL_SIGN</th>\n",
       "      <td>0.000000</td>\n",
       "    </tr>\n",
       "    <tr>\n",
       "      <th>REPORT_TYPE</th>\n",
       "      <td>0.000000</td>\n",
       "    </tr>\n",
       "    <tr>\n",
       "      <th>ELEVATION</th>\n",
       "      <td>0.000000</td>\n",
       "    </tr>\n",
       "    <tr>\n",
       "      <th>LONGITUDE</th>\n",
       "      <td>0.000000</td>\n",
       "    </tr>\n",
       "    <tr>\n",
       "      <th>LATITUDE</th>\n",
       "      <td>0.000000</td>\n",
       "    </tr>\n",
       "    <tr>\n",
       "      <th>TMP_Confidence</th>\n",
       "      <td>0.000000</td>\n",
       "    </tr>\n",
       "  </tbody>\n",
       "</table>\n",
       "</div>"
      ],
      "text/plain": [
       "                prct_missing\n",
       "AW3                 0.989035\n",
       "AJ1                 0.987892\n",
       "ED1                 0.987637\n",
       "KA4                 0.987120\n",
       "KA3                 0.986932\n",
       "GD4                 0.970345\n",
       "MW2                 0.949176\n",
       "OD1                 0.937102\n",
       "AA2                 0.934493\n",
       "AU2                 0.917931\n",
       "AW2                 0.916645\n",
       "KA2                 0.876865\n",
       "KA1                 0.876059\n",
       "GA3                 0.829737\n",
       "AW1                 0.825501\n",
       "AU1                 0.823237\n",
       "OC1                 0.821378\n",
       "GD3                 0.798305\n",
       "MW1                 0.669517\n",
       "GE1                 0.653608\n",
       "MD1                 0.647520\n",
       "EQD                 0.643693\n",
       "GA2                 0.615878\n",
       "GD2                 0.534233\n",
       "GA1                 0.283277\n",
       "AA1                 0.187911\n",
       "GD1                 0.167069\n",
       "GF1                 0.034671\n",
       "MA1                 0.000292\n",
       "REM                 0.000000\n",
       "TMP_F               0.000000\n",
       "DATE                0.000000\n",
       "SOURCE              0.000000\n",
       "SLP                 0.000000\n",
       "DEW                 0.000000\n",
       "TMP                 0.000000\n",
       "VIS                 0.000000\n",
       "CIG                 0.000000\n",
       "WND                 0.000000\n",
       "CALL_SIGN           0.000000\n",
       "REPORT_TYPE         0.000000\n",
       "ELEVATION           0.000000\n",
       "LONGITUDE           0.000000\n",
       "LATITUDE            0.000000\n",
       "TMP_Confidence      0.000000"
      ]
     },
     "execution_count": 69,
     "metadata": {},
     "output_type": "execute_result"
    }
   ],
   "source": [
    "prct_missing = []\n",
    "# for loop that goes through each column and calculates the percentage of missing data\n",
    "for col in chi_hrly_cleaned.columns:\n",
    "    prct_missing.append(chi_hrly_cleaned[col].isna().sum()/chi_hrly_cleaned.shape[0])\n",
    "# turning the list into a dataframe\n",
    "prct_missing = pd.DataFrame(prct_missing, index=chi_hrly_cleaned.columns, columns=['prct_missing'])\n",
    "prct_missing.sort_values(by='prct_missing', ascending=False)"
   ]
  },
  {
   "attachments": {},
   "cell_type": "markdown",
   "metadata": {},
   "source": [
    "I'm quite curious as to why ELEVATION, LONGITUDE, and LATITUDE didn't meet the requirements of having only one unique value."
   ]
  },
  {
   "cell_type": "code",
   "execution_count": 73,
   "metadata": {},
   "outputs": [
    {
     "data": {
      "text/plain": [
       "186.5    243250\n",
       "185.8     23514\n",
       "Name: ELEVATION, dtype: int64"
      ]
     },
     "execution_count": 73,
     "metadata": {},
     "output_type": "execute_result"
    }
   ],
   "source": [
    "chi_hrly_cleaned['ELEVATION'].value_counts()"
   ]
  },
  {
   "cell_type": "code",
   "execution_count": 74,
   "metadata": {},
   "outputs": [
    {
     "data": {
      "text/plain": [
       "-87.75222    243250\n",
       "-87.75514     23514\n",
       "Name: LONGITUDE, dtype: int64"
      ]
     },
     "execution_count": 74,
     "metadata": {},
     "output_type": "execute_result"
    }
   ],
   "source": [
    "chi_hrly_cleaned['LONGITUDE'].value_counts()"
   ]
  },
  {
   "cell_type": "code",
   "execution_count": 75,
   "metadata": {},
   "outputs": [
    {
     "data": {
      "text/plain": [
       "41.78611    243250\n",
       "41.78412     23514\n",
       "Name: LATITUDE, dtype: int64"
      ]
     },
     "execution_count": 75,
     "metadata": {},
     "output_type": "execute_result"
    }
   ],
   "source": [
    "chi_hrly_cleaned['LATITUDE'].value_counts()"
   ]
  },
  {
   "attachments": {},
   "cell_type": "markdown",
   "metadata": {},
   "source": [
    "Interestingly, it looks like there are two observation points. I am going to operate under the assumption that there is no difference between the two obervation points since they seem to be so close to one another. I'm not entirely sure that this a good assumption, but for the purposes of this project, I am fine making it."
   ]
  },
  {
   "cell_type": "code",
   "execution_count": 77,
   "metadata": {},
   "outputs": [
    {
     "name": "stdout",
     "output_type": "stream",
     "text": [
      "(266764, 45)\n",
      "Unique Violations: 0\n",
      "NA Violations: 28\n",
      "(266764, 17)\n"
     ]
    }
   ],
   "source": [
    "print(chi_hrly_cleaned.shape)\n",
    "chi_hrly_cleaned = removing_useless_columns(chi_hrly_cleaned, na_theshold=0.01, unique_threshold=1)\n",
    "print(chi_hrly_cleaned.shape)"
   ]
  },
  {
   "attachments": {},
   "cell_type": "markdown",
   "metadata": {},
   "source": [
    "I am dropping all values with basically any missing value rate I think the class of model that I am building won't be that complex."
   ]
  },
  {
   "cell_type": "code",
   "execution_count": 79,
   "metadata": {},
   "outputs": [
    {
     "data": {
      "text/html": [
       "<div>\n",
       "<style scoped>\n",
       "    .dataframe tbody tr th:only-of-type {\n",
       "        vertical-align: middle;\n",
       "    }\n",
       "\n",
       "    .dataframe tbody tr th {\n",
       "        vertical-align: top;\n",
       "    }\n",
       "\n",
       "    .dataframe thead th {\n",
       "        text-align: right;\n",
       "    }\n",
       "</style>\n",
       "<table border=\"1\" class=\"dataframe\">\n",
       "  <thead>\n",
       "    <tr style=\"text-align: right;\">\n",
       "      <th></th>\n",
       "      <th>DATE</th>\n",
       "      <th>SOURCE</th>\n",
       "      <th>LATITUDE</th>\n",
       "      <th>LONGITUDE</th>\n",
       "      <th>ELEVATION</th>\n",
       "      <th>REPORT_TYPE</th>\n",
       "      <th>CALL_SIGN</th>\n",
       "      <th>WND</th>\n",
       "      <th>CIG</th>\n",
       "      <th>VIS</th>\n",
       "      <th>TMP</th>\n",
       "      <th>DEW</th>\n",
       "      <th>SLP</th>\n",
       "      <th>MA1</th>\n",
       "      <th>REM</th>\n",
       "      <th>TMP_F</th>\n",
       "      <th>TMP_Confidence</th>\n",
       "    </tr>\n",
       "  </thead>\n",
       "  <tbody>\n",
       "    <tr>\n",
       "      <th>0</th>\n",
       "      <td>2000-01-01 00:00:00</td>\n",
       "      <td>6</td>\n",
       "      <td>41.78611</td>\n",
       "      <td>-87.75222</td>\n",
       "      <td>186.5</td>\n",
       "      <td>FM-16</td>\n",
       "      <td>KMDW</td>\n",
       "      <td>310,5,N,0031,5</td>\n",
       "      <td>00610,5,M,N</td>\n",
       "      <td>016093,5,N,5</td>\n",
       "      <td>-0030,5</td>\n",
       "      <td>-0080,5</td>\n",
       "      <td>99999,9</td>\n",
       "      <td>10183,5,09958,5</td>\n",
       "      <td>MET09512/31/12 18:49:03 SPECI KMDW 010049Z 310...</td>\n",
       "      <td>26.60</td>\n",
       "      <td>5</td>\n",
       "    </tr>\n",
       "    <tr>\n",
       "      <th>1</th>\n",
       "      <td>2000-01-01 00:53:00</td>\n",
       "      <td>7</td>\n",
       "      <td>41.78611</td>\n",
       "      <td>-87.75222</td>\n",
       "      <td>186.5</td>\n",
       "      <td>FM-15</td>\n",
       "      <td>KMDW</td>\n",
       "      <td>310,5,N,0031,5</td>\n",
       "      <td>00610,5,M,N</td>\n",
       "      <td>016093,5,N,5</td>\n",
       "      <td>-0033,5</td>\n",
       "      <td>-0078,5</td>\n",
       "      <td>10197,5</td>\n",
       "      <td>10186,5,09961,5</td>\n",
       "      <td>MET10712/31/12 18:51:03 METAR KMDW 010051Z 310...</td>\n",
       "      <td>26.06</td>\n",
       "      <td>5</td>\n",
       "    </tr>\n",
       "    <tr>\n",
       "      <th>2</th>\n",
       "      <td>2000-01-01 01:00:00</td>\n",
       "      <td>7</td>\n",
       "      <td>41.78611</td>\n",
       "      <td>-87.75222</td>\n",
       "      <td>186.5</td>\n",
       "      <td>FM-15</td>\n",
       "      <td>KMDW</td>\n",
       "      <td>290,5,N,0026,5</td>\n",
       "      <td>00610,5,M,N</td>\n",
       "      <td>014484,5,N,5</td>\n",
       "      <td>-0033,5</td>\n",
       "      <td>-0078,5</td>\n",
       "      <td>10200,5</td>\n",
       "      <td>10190,5,09965,5</td>\n",
       "      <td>MET09912/31/12 19:51:03 METAR KMDW 010151Z 290...</td>\n",
       "      <td>26.06</td>\n",
       "      <td>5</td>\n",
       "    </tr>\n",
       "    <tr>\n",
       "      <th>3</th>\n",
       "      <td>2000-01-01 01:53:00</td>\n",
       "      <td>7</td>\n",
       "      <td>41.78611</td>\n",
       "      <td>-87.75222</td>\n",
       "      <td>186.5</td>\n",
       "      <td>FM-15</td>\n",
       "      <td>KMDW</td>\n",
       "      <td>360,5,N,0041,5</td>\n",
       "      <td>00610,5,M,N</td>\n",
       "      <td>011265,5,N,5</td>\n",
       "      <td>-0028,5</td>\n",
       "      <td>-0083,5</td>\n",
       "      <td>10197,5</td>\n",
       "      <td>10186,5,09961,5</td>\n",
       "      <td>MET10512/31/12 20:51:03 METAR KMDW 010251Z 360...</td>\n",
       "      <td>26.96</td>\n",
       "      <td>5</td>\n",
       "    </tr>\n",
       "    <tr>\n",
       "      <th>4</th>\n",
       "      <td>2000-01-01 02:00:00</td>\n",
       "      <td>4</td>\n",
       "      <td>41.78611</td>\n",
       "      <td>-87.75222</td>\n",
       "      <td>186.5</td>\n",
       "      <td>FM-12</td>\n",
       "      <td>KMDW</td>\n",
       "      <td>360,1,N,0041,1</td>\n",
       "      <td>99999,9,9,N</td>\n",
       "      <td>011000,1,N,1</td>\n",
       "      <td>-0028,1</td>\n",
       "      <td>-0083,1</td>\n",
       "      <td>10197,1</td>\n",
       "      <td>99999,9,09961,1</td>\n",
       "      <td>SYN076AAXX  01034 72534 32561 83608 11028 2108...</td>\n",
       "      <td>26.96</td>\n",
       "      <td>1</td>\n",
       "    </tr>\n",
       "  </tbody>\n",
       "</table>\n",
       "</div>"
      ],
      "text/plain": [
       "                 DATE SOURCE  LATITUDE  LONGITUDE  ELEVATION REPORT_TYPE  \\\n",
       "0 2000-01-01 00:00:00      6  41.78611  -87.75222      186.5       FM-16   \n",
       "1 2000-01-01 00:53:00      7  41.78611  -87.75222      186.5       FM-15   \n",
       "2 2000-01-01 01:00:00      7  41.78611  -87.75222      186.5       FM-15   \n",
       "3 2000-01-01 01:53:00      7  41.78611  -87.75222      186.5       FM-15   \n",
       "4 2000-01-01 02:00:00      4  41.78611  -87.75222      186.5       FM-12   \n",
       "\n",
       "  CALL_SIGN             WND          CIG           VIS      TMP      DEW  \\\n",
       "0     KMDW   310,5,N,0031,5  00610,5,M,N  016093,5,N,5  -0030,5  -0080,5   \n",
       "1     KMDW   310,5,N,0031,5  00610,5,M,N  016093,5,N,5  -0033,5  -0078,5   \n",
       "2     KMDW   290,5,N,0026,5  00610,5,M,N  014484,5,N,5  -0033,5  -0078,5   \n",
       "3     KMDW   360,5,N,0041,5  00610,5,M,N  011265,5,N,5  -0028,5  -0083,5   \n",
       "4     KMDW   360,1,N,0041,1  99999,9,9,N  011000,1,N,1  -0028,1  -0083,1   \n",
       "\n",
       "       SLP              MA1  \\\n",
       "0  99999,9  10183,5,09958,5   \n",
       "1  10197,5  10186,5,09961,5   \n",
       "2  10200,5  10190,5,09965,5   \n",
       "3  10197,5  10186,5,09961,5   \n",
       "4  10197,1  99999,9,09961,1   \n",
       "\n",
       "                                                 REM  TMP_F  TMP_Confidence  \n",
       "0  MET09512/31/12 18:49:03 SPECI KMDW 010049Z 310...  26.60               5  \n",
       "1  MET10712/31/12 18:51:03 METAR KMDW 010051Z 310...  26.06               5  \n",
       "2  MET09912/31/12 19:51:03 METAR KMDW 010151Z 290...  26.06               5  \n",
       "3  MET10512/31/12 20:51:03 METAR KMDW 010251Z 360...  26.96               5  \n",
       "4  SYN076AAXX  01034 72534 32561 83608 11028 2108...  26.96               1  "
      ]
     },
     "execution_count": 79,
     "metadata": {},
     "output_type": "execute_result"
    }
   ],
   "source": [
    "chi_hrly_cleaned.head()"
   ]
  },
  {
   "attachments": {},
   "cell_type": "markdown",
   "metadata": {},
   "source": [
    "## EDA"
   ]
  },
  {
   "cell_type": "code",
   "execution_count": 80,
   "metadata": {},
   "outputs": [
    {
     "data": {
      "text/plain": [
       "Text(0, 0.5, 'Temperature (F)')"
      ]
     },
     "execution_count": 80,
     "metadata": {},
     "output_type": "execute_result"
    },
    {
     "data": {
      "image/png": "[encoded data removed]",
      "text/plain": [
       "<Figure size 640x480 with 1 Axes>"
      ]
     },
     "metadata": {},
     "output_type": "display_data"
    }
   ],
   "source": [
    "# df with only time and TMP_F 'temp in Fahrenheit'\n",
    "chi_tmp_time = chi_hrly_cleaned[['DATE','TMP_F']]\n",
    "chi_tmp_time = chi_tmp_time[abs(chi_tmp_time['TMP_F']) < 200]\n",
    "chi_tmp_time.shape\n",
    "chi_tmp_time.head()\n",
    "plt.plot(chi_tmp_time['DATE'],chi_tmp_time['TMP_F'])\n",
    "plt.title('Chicago Hourly Temperature')\n",
    "plt.xlabel('Date')\n",
    "plt.ylabel('Temperature (F)')"
   ]
  },
  {
   "cell_type": "code",
   "execution_count": 81,
   "metadata": {},
   "outputs": [
    {
     "data": {
      "text/plain": [
       "(array([1.4000e+01, 1.3000e+01, 9.0000e+00, 2.8000e+01, 1.8000e+01,\n",
       "        4.3000e+01, 4.0000e+01, 9.1000e+01, 1.4900e+02, 3.2500e+02,\n",
       "        6.5500e+02, 6.2900e+02, 6.2000e+02, 8.7600e+02, 1.1480e+03,\n",
       "        1.8570e+03, 1.6290e+03, 2.1960e+03, 2.5410e+03, 3.5530e+03,\n",
       "        3.7230e+03, 5.2750e+03, 7.2840e+03, 7.1590e+03, 8.4310e+03,\n",
       "        8.4980e+03, 1.0127e+04, 8.6980e+03, 1.0698e+04, 7.1110e+03,\n",
       "        7.7840e+03, 7.9540e+03, 7.9200e+03, 7.4030e+03, 9.1530e+03,\n",
       "        9.7760e+03, 6.6290e+03, 6.9880e+03, 6.1970e+03, 7.4560e+03,\n",
       "        9.8990e+03, 8.4840e+03, 7.9830e+03, 9.6080e+03, 1.0183e+04,\n",
       "        1.0054e+04, 8.6500e+03, 1.0750e+04, 5.6650e+03, 4.7900e+03,\n",
       "        3.5210e+03, 2.3860e+03, 1.8140e+03, 1.2890e+03, 5.7100e+02,\n",
       "        2.4600e+02, 9.3000e+01, 4.6000e+01, 2.4000e+01, 1.0000e+01]),\n",
       " array([-2.09200e+01, -1.88380e+01, -1.67560e+01, -1.46740e+01,\n",
       "        -1.25920e+01, -1.05100e+01, -8.42800e+00, -6.34600e+00,\n",
       "        -4.26400e+00, -2.18200e+00, -1.00000e-01,  1.98200e+00,\n",
       "         4.06400e+00,  6.14600e+00,  8.22800e+00,  1.03100e+01,\n",
       "         1.23920e+01,  1.44740e+01,  1.65560e+01,  1.86380e+01,\n",
       "         2.07200e+01,  2.28020e+01,  2.48840e+01,  2.69660e+01,\n",
       "         2.90480e+01,  3.11300e+01,  3.32120e+01,  3.52940e+01,\n",
       "         3.73760e+01,  3.94580e+01,  4.15400e+01,  4.36220e+01,\n",
       "         4.57040e+01,  4.77860e+01,  4.98680e+01,  5.19500e+01,\n",
       "         5.40320e+01,  5.61140e+01,  5.81960e+01,  6.02780e+01,\n",
       "         6.23600e+01,  6.44420e+01,  6.65240e+01,  6.86060e+01,\n",
       "         7.06880e+01,  7.27700e+01,  7.48520e+01,  7.69340e+01,\n",
       "         7.90160e+01,  8.10980e+01,  8.31800e+01,  8.52620e+01,\n",
       "         8.73440e+01,  8.94260e+01,  9.15080e+01,  9.35900e+01,\n",
       "         9.56720e+01,  9.77540e+01,  9.98360e+01,  1.01918e+02,\n",
       "         1.04000e+02]),\n",
       " <BarContainer object of 60 artists>)"
      ]
     },
     "execution_count": 81,
     "metadata": {},
     "output_type": "execute_result"
    },
    {
     "data": {
      "image/png": "[encoded data removed]",
      "text/plain": [
       "<Figure size 640x480 with 1 Axes>"
      ]
     },
     "metadata": {},
     "output_type": "display_data"
    }
   ],
   "source": [
    "# plot this distribution of 'TMP_F'\n",
    "plt.hist(chi_tmp_time['TMP_F'], bins=60)"
   ]
  },
  {
   "attachments": {},
   "cell_type": "markdown",
   "metadata": {},
   "source": [
    "## Modeling Section"
   ]
  },
  {
   "attachments": {},
   "cell_type": "markdown",
   "metadata": {},
   "source": [
    "In the base case of my model, I am only going to use the date/time and tmp_f, which is only two columns."
   ]
  },
  {
   "cell_type": "code",
   "execution_count": 82,
   "metadata": {},
   "outputs": [
    {
     "data": {
      "text/html": [
       "<div>\n",
       "<style scoped>\n",
       "    .dataframe tbody tr th:only-of-type {\n",
       "        vertical-align: middle;\n",
       "    }\n",
       "\n",
       "    .dataframe tbody tr th {\n",
       "        vertical-align: top;\n",
       "    }\n",
       "\n",
       "    .dataframe thead th {\n",
       "        text-align: right;\n",
       "    }\n",
       "</style>\n",
       "<table border=\"1\" class=\"dataframe\">\n",
       "  <thead>\n",
       "    <tr style=\"text-align: right;\">\n",
       "      <th></th>\n",
       "      <th>DATE</th>\n",
       "      <th>TMP_F</th>\n",
       "    </tr>\n",
       "  </thead>\n",
       "  <tbody>\n",
       "    <tr>\n",
       "      <th>0</th>\n",
       "      <td>2000-01-01 00:00:00</td>\n",
       "      <td>26.60</td>\n",
       "    </tr>\n",
       "    <tr>\n",
       "      <th>1</th>\n",
       "      <td>2000-01-01 00:53:00</td>\n",
       "      <td>26.06</td>\n",
       "    </tr>\n",
       "    <tr>\n",
       "      <th>2</th>\n",
       "      <td>2000-01-01 01:00:00</td>\n",
       "      <td>26.06</td>\n",
       "    </tr>\n",
       "    <tr>\n",
       "      <th>3</th>\n",
       "      <td>2000-01-01 01:53:00</td>\n",
       "      <td>26.96</td>\n",
       "    </tr>\n",
       "    <tr>\n",
       "      <th>4</th>\n",
       "      <td>2000-01-01 02:00:00</td>\n",
       "      <td>26.96</td>\n",
       "    </tr>\n",
       "  </tbody>\n",
       "</table>\n",
       "</div>"
      ],
      "text/plain": [
       "                 DATE  TMP_F\n",
       "0 2000-01-01 00:00:00  26.60\n",
       "1 2000-01-01 00:53:00  26.06\n",
       "2 2000-01-01 01:00:00  26.06\n",
       "3 2000-01-01 01:53:00  26.96\n",
       "4 2000-01-01 02:00:00  26.96"
      ]
     },
     "execution_count": 82,
     "metadata": {},
     "output_type": "execute_result"
    }
   ],
   "source": [
    "chi_hrly_basic = chi_hrly_cleaned[['DATE', 'TMP_F']]"
   ]
  },
  {
   "cell_type": "code",
   "execution_count": null,
   "metadata": {},
   "outputs": [],
   "source": []
  }
 ],
 "metadata": {
  "kernelspec": {
   "display_name": "base",
   "language": "python",
   "name": "python3"
  },
  "language_info": {
   "codemirror_mode": {
    "name": "ipython",
    "version": 3
   },
   "file_extension": ".py",
   "mimetype": "text/x-python",
   "name": "python",
   "nbconvert_exporter": "python",
   "pygments_lexer": "ipython3",
   "version": "3.9.13"
  },
  "orig_nbformat": 4,
  "vscode": {
   "interpreter": {
    "hash": "d15392977aa734490223d26b342679585e95cbc4787d918e060c2355fd65303e"
   }
  }
 },
 "nbformat": 4,
 "nbformat_minor": 2
}
